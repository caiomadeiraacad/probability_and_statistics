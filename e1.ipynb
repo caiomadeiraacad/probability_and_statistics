{
 "cells": [
  {
   "cell_type": "code",
   "execution_count": 27,
   "id": "7d5e144f",
   "metadata": {},
   "outputs": [],
   "source": [
    "import pandas as pd\n",
    "import numpy as np\n"
   ]
  },
  {
   "cell_type": "markdown",
   "id": "d233f4de",
   "metadata": {},
   "source": [
    "os dados a seguir referem-se ao número de livros adquiridos no ano passado pelos 40 alunos da turma A\n",
    "\n",
    "Os dados brutos são: 4,2,1,0,3,1,2,0,2,1,0,2,1,1,0,4,3,2,3,5,8,0,1,6,5,3,2,1,6,4,3,4,3,2,1,0,2,1,0,3"
   ]
  },
  {
   "cell_type": "code",
   "execution_count": null,
   "id": "f0a7b101",
   "metadata": {},
   "outputs": [
    {
     "data": {
      "text/plain": [
       "np.int64(92)"
      ]
     },
     "execution_count": 28,
     "metadata": {},
     "output_type": "execute_result"
    }
   ],
   "source": [
    "books = [4,2,1,0,3,1,2,0,2,1,0,2,1,1,0,4,3,2,3,5,8,0,1,6,5,3,2,1,6,4,3,4,3,2,1,0,2,1,0,3]\n",
    "sum(books) "
   ]
  },
  {
   "cell_type": "code",
   "execution_count": 29,
   "id": "a62cfa5e",
   "metadata": {},
   "outputs": [
    {
     "data": {
      "text/plain": [
       "40"
      ]
     },
     "execution_count": 29,
     "metadata": {},
     "output_type": "execute_result"
    }
   ],
   "source": [
    "len(books)"
   ]
  },
  {
   "cell_type": "code",
   "execution_count": 30,
   "id": "ea1f796c",
   "metadata": {},
   "outputs": [
    {
     "data": {
      "text/plain": [
       "{'Aluno 0': np.int64(4),\n",
       " 'Aluno 1': np.int64(2),\n",
       " 'Aluno 2': np.int64(1),\n",
       " 'Aluno 3': np.int64(0),\n",
       " 'Aluno 4': np.int64(3),\n",
       " 'Aluno 5': np.int64(1),\n",
       " 'Aluno 6': np.int64(2),\n",
       " 'Aluno 7': np.int64(0),\n",
       " 'Aluno 8': np.int64(2),\n",
       " 'Aluno 9': np.int64(1),\n",
       " 'Aluno 10': np.int64(0),\n",
       " 'Aluno 11': np.int64(2),\n",
       " 'Aluno 12': np.int64(1),\n",
       " 'Aluno 13': np.int64(1),\n",
       " 'Aluno 14': np.int64(0),\n",
       " 'Aluno 15': np.int64(4),\n",
       " 'Aluno 16': np.int64(3),\n",
       " 'Aluno 17': np.int64(2),\n",
       " 'Aluno 18': np.int64(3),\n",
       " 'Aluno 19': np.int64(5),\n",
       " 'Aluno 20': np.int64(8),\n",
       " 'Aluno 21': np.int64(0),\n",
       " 'Aluno 22': np.int64(1),\n",
       " 'Aluno 23': np.int64(6),\n",
       " 'Aluno 24': np.int64(5),\n",
       " 'Aluno 25': np.int64(3),\n",
       " 'Aluno 26': np.int64(2),\n",
       " 'Aluno 27': np.int64(1),\n",
       " 'Aluno 28': np.int64(6),\n",
       " 'Aluno 29': np.int64(4),\n",
       " 'Aluno 30': np.int64(3),\n",
       " 'Aluno 31': np.int64(4),\n",
       " 'Aluno 32': np.int64(3),\n",
       " 'Aluno 33': np.int64(2),\n",
       " 'Aluno 34': np.int64(1),\n",
       " 'Aluno 35': np.int64(0),\n",
       " 'Aluno 36': np.int64(2),\n",
       " 'Aluno 37': np.int64(1),\n",
       " 'Aluno 38': np.int64(0),\n",
       " 'Aluno 39': np.int64(3)}"
      ]
     },
     "execution_count": 30,
     "metadata": {},
     "output_type": "execute_result"
    }
   ],
   "source": [
    "student_book_amount = {}\n",
    "for i in range(0, len(books)):\n",
    "    student_book_amount[f'Aluno {i}'] = books[i]\n",
    "\n",
    "student_book_amount"
   ]
  },
  {
   "cell_type": "code",
   "execution_count": 32,
   "id": "562eb79f",
   "metadata": {},
   "outputs": [
    {
     "data": {
      "text/html": [
       "<div>\n",
       "<style scoped>\n",
       "    .dataframe tbody tr th:only-of-type {\n",
       "        vertical-align: middle;\n",
       "    }\n",
       "\n",
       "    .dataframe tbody tr th {\n",
       "        vertical-align: top;\n",
       "    }\n",
       "\n",
       "    .dataframe thead th {\n",
       "        text-align: right;\n",
       "    }\n",
       "</style>\n",
       "<table border=\"1\" class=\"dataframe\">\n",
       "  <thead>\n",
       "    <tr style=\"text-align: right;\">\n",
       "      <th></th>\n",
       "      <th>Turma A</th>\n",
       "      <th>Livros adquiridos</th>\n",
       "    </tr>\n",
       "  </thead>\n",
       "  <tbody>\n",
       "    <tr>\n",
       "      <th>0</th>\n",
       "      <td>Aluno 0</td>\n",
       "      <td>4</td>\n",
       "    </tr>\n",
       "    <tr>\n",
       "      <th>1</th>\n",
       "      <td>Aluno 1</td>\n",
       "      <td>2</td>\n",
       "    </tr>\n",
       "    <tr>\n",
       "      <th>2</th>\n",
       "      <td>Aluno 2</td>\n",
       "      <td>1</td>\n",
       "    </tr>\n",
       "    <tr>\n",
       "      <th>3</th>\n",
       "      <td>Aluno 3</td>\n",
       "      <td>0</td>\n",
       "    </tr>\n",
       "    <tr>\n",
       "      <th>4</th>\n",
       "      <td>Aluno 4</td>\n",
       "      <td>3</td>\n",
       "    </tr>\n",
       "  </tbody>\n",
       "</table>\n",
       "</div>"
      ],
      "text/plain": [
       "   Turma A  Livros adquiridos\n",
       "0  Aluno 0                  4\n",
       "1  Aluno 1                  2\n",
       "2  Aluno 2                  1\n",
       "3  Aluno 3                  0\n",
       "4  Aluno 4                  3"
      ]
     },
     "execution_count": 32,
     "metadata": {},
     "output_type": "execute_result"
    }
   ],
   "source": [
    "df = pd.DataFrame(data=student_book_amount.items(), columns=[\"Turma A\", \"Livros adquiridos\"])\n",
    "df.head()"
   ]
  },
  {
   "cell_type": "code",
   "execution_count": null,
   "id": "f54ad35d",
   "metadata": {},
   "outputs": [],
   "source": []
  }
 ],
 "metadata": {
  "kernelspec": {
   "display_name": "venv",
   "language": "python",
   "name": "python3"
  },
  "language_info": {
   "codemirror_mode": {
    "name": "ipython",
    "version": 3
   },
   "file_extension": ".py",
   "mimetype": "text/x-python",
   "name": "python",
   "nbconvert_exporter": "python",
   "pygments_lexer": "ipython3",
   "version": "3.13.5"
  }
 },
 "nbformat": 4,
 "nbformat_minor": 5
}
